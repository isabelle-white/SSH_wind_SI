{
 "cells": [
  {
   "metadata": {
    "ExecuteTime": {
     "end_time": "2025-03-14T12:07:39.186470Z",
     "start_time": "2025-03-14T11:58:09.583055Z"
    }
   },
   "cell_type": "code",
   "source": [
    "import xarray as xr\n",
    "import os\n",
    "\n",
    "dir_name = \"/Users/iw2g24/PycharmProjects/SSH_project/mca_shared_izzy/eumetsat_sh_sid_data\"\n",
    "directory_path = dir_name\n",
    "\n",
    "# List all NetCDF files in the directory (ensure they are sorted in the correct order)\n",
    "nc_files = sorted([os.path.join(directory_path, f) for f in os.listdir(directory_path) if f.endswith(\".nc\")])\n",
    "\n",
    "# Open all NetCDF files into a list of datasets\n",
    "datasets = [xr.open_dataset(file) for file in nc_files]\n",
    "\n",
    "# Concatenate datasets along the desired dimension (e.g., 'time')\n",
    "combined_dataset = xr.concat(datasets, dim='time')\n",
    "\n",
    "# Save the concatenated dataset to a new NetCDF file\n",
    "output_file = \"sid_eumetsat_sh.nc\"\n",
    "combined_dataset.to_netcdf(output_file)\n",
    "\n",
    "print(f\"Concatenated dataset saved to {output_file}\")\n"
   ],
   "id": "7f3133974247f3d2",
   "outputs": [
    {
     "name": "stdout",
     "output_type": "stream",
     "text": [
      "Concatenated dataset saved to sid_eumetsat_sh.nc\n"
     ]
    }
   ],
   "execution_count": 4
  },
  {
   "metadata": {},
   "cell_type": "code",
   "outputs": [],
   "execution_count": null,
   "source": "",
   "id": "41f841226d962c86"
  }
 ],
 "metadata": {
  "kernelspec": {
   "name": "python3",
   "language": "python",
   "display_name": "Python 3 (ipykernel)"
  }
 },
 "nbformat": 5,
 "nbformat_minor": 9
}
