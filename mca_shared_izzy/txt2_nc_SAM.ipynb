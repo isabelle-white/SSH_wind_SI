{
 "cells": [
  {
   "cell_type": "code",
   "id": "initial_id",
   "metadata": {
    "collapsed": true,
    "ExecuteTime": {
     "end_time": "2025-03-24T13:14:24.349902Z",
     "start_time": "2025-03-24T13:14:24.328539Z"
    }
   },
   "source": [
    "## this script is to convert SAM index txt file to nc file so i can plot this against DOT, WSC, OSC ... then look at correlation etc\n",
    "\n",
    "import numpy as np\n",
    "import pandas as pd\n",
    "import xarray as xr\n",
    "\n",
    "# Load the data\n",
    "txt_file = \"/Users/iw2g24/PycharmProjects/SSH_project/Data/newsam.1957.2007.txt\"  # file name\n",
    "df = pd.read_csv(txt_file, delimiter=r\"\\s+\", index_col=0)  #  first column (years) as the index\n",
    "\n",
    "# Get years from index and months from columns\n",
    "years = df.index.values\n",
    "months = df.columns.values\n",
    "\n",
    "# Create the date range (first of each month)\n",
    "dates = pd.to_datetime([f\"{year}-{month}-01\" for year in years for month in months], format='%Y-%b-%d')\n",
    "# set to 12:00:00 and nanoseconds precision\n",
    "dates = pd.to_datetime([f\"{date.strftime('%Y-%m-%d')}T12:00:00.000000000\" for date in dates])\n",
    "\n",
    "\n",
    "# Flatten the SAM values\n",
    "sam_values = df.values.flatten()\n",
    "\n",
    "# Create the xarray Dataset\n",
    "ds = xr.Dataset(\n",
    "    {\n",
    "        \"SAM\": (\"time\", sam_values)  # 'SAM' variable with time dimension\n",
    "    },\n",
    "    coords={\n",
    "        \"time\": dates  # Using the generated dates as the time coordinate\n",
    "    }\n",
    ")\n",
    "\n",
    "ds.to_netcdf(\"monthly_sam.nc\")\n",
    "\n",
    "print(ds)\n",
    "\n"
   ],
   "outputs": [
    {
     "name": "stdout",
     "output_type": "stream",
     "text": [
      "<xarray.Dataset> Size: 13kB\n",
      "Dimensions:  (time: 828)\n",
      "Coordinates:\n",
      "  * time     (time) datetime64[ns] 7kB 1957-01-01T12:00:00 ... 2025-12-01T12:...\n",
      "Data variables:\n",
      "    SAM      (time) float64 7kB -0.87 -2.27 0.07 -1.97 -2.5 ... nan nan nan nan\n"
     ]
    }
   ],
   "execution_count": 25
  },
  {
   "metadata": {
    "ExecuteTime": {
     "end_time": "2025-03-25T08:22:45.598317Z",
     "start_time": "2025-03-25T08:22:45.572044Z"
    }
   },
   "cell_type": "code",
   "source": [
    "import pandas as pd\n",
    "import numpy as np\n",
    "import xarray as xr\n",
    "\n",
    "# Load the data\n",
    "txt_file = \"/Users/iw2g24/PycharmProjects/SSH_project/Data/newsam.1957.2007.seas.txt\"  # Change this to your file name\n",
    "df = pd.read_csv(txt_file, delimiter=r\"\\s+\", index_col=0)  # Set the first column (years) as the index\n",
    "\n",
    "# Get years\n",
    "years = df.index.values  # [1957, 1958, ...]\n",
    "\n",
    "# Define seasonal time coordinates\n",
    "date_mapping = {\n",
    "    'ANN': '12-01',  # Annual = December 1st\n",
    "    'AUT': '09-01',  # Autumn = September 1st\n",
    "    'WIN': '12-01',  # Winter = December 1st\n",
    "    'SPR': '03-01',  # Spring = March 1st\n",
    "    'SUM': '06-01',  # Summer = June 1st\n",
    "}\n",
    "\n",
    "# Create time coordinates for each season\n",
    "time_coords = {season: pd.to_datetime([f\"{year}-{date_mapping[season]}T12:00:00.000000000\" for year in years])\n",
    "               for season in df.columns}\n",
    "\n",
    "# Create an xarray Dataset with separate coordinates for each season\n",
    "ds = xr.Dataset(\n",
    "    {\n",
    "        \"ANN_sam\": ([\"year\"], df[\"ANN\"].values),\n",
    "        \"AUT_sam\": ([\"year\"], df[\"AUT\"].values),\n",
    "        \"WIN_sam\": ([\"year\"], df[\"WIN\"].values),\n",
    "        \"SPR_sam\": ([\"year\"], df[\"SPR\"].values),\n",
    "        \"SUM_sam\": ([\"year\"], df[\"SUM\"].values),\n",
    "    },\n",
    "    coords={\n",
    "        \"year\": years,          # Year coordinate\n",
    "        \"ANN_time\": (\"year\", time_coords[\"ANN\"]),\n",
    "        \"AUT_time\": (\"year\", time_coords[\"AUT\"]),\n",
    "        \"WIN_time\": (\"year\", time_coords[\"WIN\"]),\n",
    "        \"SPR_time\": (\"year\", time_coords[\"SPR\"]),\n",
    "        \"SUM_time\": (\"year\", time_coords[\"SUM\"]),\n",
    "    }\n",
    ")\n",
    "\n",
    "# Save the dataset to a NetCDF file\n",
    "ds.to_netcdf(\"seas_sam.nc\")\n",
    "print(\"Conversion complete! File saved as seas.nc\")\n",
    "\n",
    "print(ds)"
   ],
   "id": "6a155d384058cbc3",
   "outputs": [
    {
     "name": "stdout",
     "output_type": "stream",
     "text": [
      "Conversion complete! File saved as seas.nc\n",
      "<xarray.Dataset> Size: 6kB\n",
      "Dimensions:   (year: 68)\n",
      "Coordinates:\n",
      "  * year      (year) int64 544B 1957 1958 1959 1960 1961 ... 2021 2022 2023 2024\n",
      "    ANN_time  (year) datetime64[ns] 544B 1957-12-01T12:00:00 ... 2024-12-01T1...\n",
      "    AUT_time  (year) datetime64[ns] 544B 1957-09-01T12:00:00 ... 2024-09-01T1...\n",
      "    WIN_time  (year) datetime64[ns] 544B 1957-12-01T12:00:00 ... 2024-12-01T1...\n",
      "    SPR_time  (year) datetime64[ns] 544B 1957-03-01T12:00:00 ... 2024-03-01T1...\n",
      "    SUM_time  (year) datetime64[ns] 544B 1957-06-01T12:00:00 ... 2024-06-01T1...\n",
      "Data variables:\n",
      "    ANN_sam   (year) float64 544B -4.24 -1.27 0.47 1.52 ... 3.03 4.18 2.04 1.63\n",
      "    AUT_sam   (year) float64 544B -2.52 -2.97 -0.94 0.74 ... 0.34 1.93 0.74 2.07\n",
      "    WIN_sam   (year) float64 544B -0.68 -0.92 -1.22 0.32 ... 0.03 -0.11 -1.21\n",
      "    SPR_sam   (year) float64 544B -3.55 1.42 3.2 1.0 0.85 ... 2.8 4.25 0.25 1.81\n",
      "    SUM_sam   (year) float64 544B -2.52 1.12 0.31 -0.08 ... 3.25 3.83 3.51 -0.31\n"
     ]
    }
   ],
   "execution_count": 35
  },
  {
   "metadata": {},
   "cell_type": "code",
   "outputs": [],
   "execution_count": null,
   "source": "",
   "id": "70eb50c82b8abc52"
  }
 ],
 "metadata": {
  "kernelspec": {
   "display_name": "Python 3",
   "language": "python",
   "name": "python3"
  },
  "language_info": {
   "codemirror_mode": {
    "name": "ipython",
    "version": 2
   },
   "file_extension": ".py",
   "mimetype": "text/x-python",
   "name": "python",
   "nbconvert_exporter": "python",
   "pygments_lexer": "ipython2",
   "version": "2.7.6"
  }
 },
 "nbformat": 4,
 "nbformat_minor": 5
}
